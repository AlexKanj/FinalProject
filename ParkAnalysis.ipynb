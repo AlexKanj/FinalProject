{
 "cells": [
  {
   "cell_type": "markdown",
   "metadata": {},
   "source": [
    "We chose to analyze the access to parks in the neighborhoods of Pittsburgh to decide the best neighborhood to start a family. This data is relevant because having ample access to parks is essential for raising a child "
   ]
  },
  {
   "cell_type": "code",
   "execution_count": 22,
   "metadata": {},
   "outputs": [
    {
     "data": {
      "text/plain": [
       "<matplotlib.axes._subplots.AxesSubplot at 0x7fd1a6dda940>"
      ]
     },
     "execution_count": 22,
     "metadata": {},
     "output_type": "execute_result"
    },
    {
     "data": {
      "image/png": "[encoded data removed]",
      "text/plain": [
       "<Figure size 432x288 with 1 Axes>"
      ]
     },
     "metadata": {
      "needs_background": "light"
     },
     "output_type": "display_data"
    }
   ],
   "source": [
    "import pandas as pd\n",
    "parks = pd.read_csv(\"parks.csv\")\n",
    "parks.groupby('sector')['acreage'].sum().plot.bar()"
   ]
  },
  {
   "cell_type": "markdown",
   "metadata": {},
   "source": [
    ":--| SECTOR NUMBER | NEIGHBORHOOD       |\n",
    "|---------------|---------------------|\n",
    "| 1             | Troy Hill           |\n",
    "| 2             | Perry North         |\n",
    "| 3             | North Shore         |\n",
    "| 4             | Ingram / Crafton    |\n",
    "| 5             | Dormont             |\n",
    "| 6             | Mount Washington    |\n",
    "| 7             | Mount Oliver        |\n",
    "| 8             | Saint Clair         |\n",
    "| 9             | Greenfield          |\n",
    "| 10            | Squirrel Hill       |\n",
    "| 11            | Homewood            |\n",
    "| 12            | Highland Park       |\n",
    "| 13            | Polish Hill         |\n",
    "| 14            | Oakland             |\n",
    "| 15            | Hill District       |\n",
    "| 16            | Downtown Pittsburgh |"
   ]
  },
  {
   "cell_type": "code",
   "execution_count": 6,
   "metadata": {},
   "outputs": [],
   "source": [
    "\n",
    "\n"
   ]
  },
  {
   "cell_type": "code",
   "execution_count": null,
   "metadata": {},
   "outputs": [],
   "source": []
  }
 ],
 "metadata": {
  "kernelspec": {
   "display_name": "Python 3",
   "language": "python",
   "name": "python3"
  },
  "language_info": {
   "codemirror_mode": {
    "name": "ipython",
    "version": 3
   },
   "file_extension": ".py",
   "mimetype": "text/x-python",
   "name": "python",
   "nbconvert_exporter": "python",
   "pygments_lexer": "ipython3",
   "version": "3.8.3"
  }
 },
 "nbformat": 4,
 "nbformat_minor": 4
}
